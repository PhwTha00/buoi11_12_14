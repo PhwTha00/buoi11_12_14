{
  "nbformat": 4,
  "nbformat_minor": 0,
  "metadata": {
    "colab": {
      "provenance": [],
      "authorship_tag": "ABX9TyP0Yv8ObJ+m2d1Z9R9p619L",
      "include_colab_link": true
    },
    "kernelspec": {
      "name": "python3",
      "display_name": "Python 3"
    },
    "language_info": {
      "name": "python"
    }
  },
  "cells": [
    {
      "cell_type": "markdown",
      "metadata": {
        "id": "view-in-github",
        "colab_type": "text"
      },
      "source": [
        "<a href=\"https://colab.research.google.com/github/PhwTha00/buoi11_12_14/blob/main/bai14.ipynb\" target=\"_parent\"><img src=\"https://colab.research.google.com/assets/colab-badge.svg\" alt=\"Open In Colab\"/></a>"
      ]
    },
    {
      "cell_type": "code",
      "source": [
        "import numpy as np\n",
        "import pandas as pd\n",
        "\n",
        "import os\n",
        "for dirname, _, filenames in os.walk('/kaggle/input'):\n",
        "    for filename in filenames:\n",
        "        print(os.path.join(dirname, filename))\n",
        "\n"
      ],
      "metadata": {
        "id": "VoDA0N4vpwrP"
      },
      "execution_count": 3,
      "outputs": []
    },
    {
      "cell_type": "code",
      "execution_count": 4,
      "metadata": {
        "id": "EpXOUfxndyv-"
      },
      "outputs": [],
      "source": [
        "import numpy as np # linear algebra\n",
        "import pandas as pd # data processing, CSV file I/O (e.g. pd.read_csv)\n",
        "import bz2 # To open zipped files\n",
        "import re # regular expressions\n",
        "import os\n",
        "import gc\n",
        "\n",
        "import matplotlib.pyplot as plt\n",
        "import seaborn as sns"
      ]
    },
    {
      "cell_type": "code",
      "source": [
        "test_file = bz2.BZ2File('test.ft.txt.bz2')\n",
        "test_file_lines = test_file.readlines()\n",
        "\n",
        "del test_file\n",
        "gc.collect()\n",
        "\n",
        "test_file_lines = [x.decode('utf-8') for x in test_file_lines]\n",
        "\n",
        "test_labels = [0 if x.split(' ')[0] == '__label__1' else 1 for x in test_file_lines]\n",
        "\n",
        "test_sentences = [x.split(' ', 1)[1][:-1] for x in test_file_lines]\n",
        "\n",
        "\n",
        "print(test_sentences[0])\n",
        "print(test_labels[0])\n",
        "n_items = 80000\n",
        "\n",
        "for idx in range(1, 6):\n",
        "    id1 = (idx-1)*n_items\n",
        "    id2 = idx*n_items\n",
        "    df = pd.DataFrame(list(zip(test_labels[id1:id2], test_sentences[id1:id2])), columns =['label', 'text'])\n",
        "    df.to_csv(f\"data_{idx}.csv\", index=False)"
      ],
      "metadata": {
        "colab": {
          "base_uri": "https://localhost:8080/"
        },
        "id": "USNk2r1rkkhF",
        "outputId": "21de5343-f68d-4278-b0ea-c414be7d4e10"
      },
      "execution_count": 5,
      "outputs": [
        {
          "output_type": "stream",
          "name": "stdout",
          "text": [
            "Great CD: My lovely Pat has one of the GREAT voices of her generation. I have listened to this CD for YEARS and I still LOVE IT. When I'm in a good mood it makes me feel better. A bad mood just evaporates like sugar in the rain. This CD just oozes LIFE. Vocals are jusat STUUNNING and lyrics just kill. One of life's hidden gems. This is a desert isle CD in my book. Why she never made it big is just beyond me. Everytime I play this, no matter black, white, young, old, male, female EVERYBODY says one thing \"Who was that singing ?\"\n",
            "1\n"
          ]
        }
      ]
    },
    {
      "cell_type": "code",
      "source": [
        "print(\"Test Data Volume:\", len(test_file_lines), \"\\n\\n\")"
      ],
      "metadata": {
        "colab": {
          "base_uri": "https://localhost:8080/"
        },
        "id": "UC_wBi8IzEwX",
        "outputId": "9e8feb29-91a3-47fc-d2a1-21b9eef46421"
      },
      "execution_count": 6,
      "outputs": [
        {
          "output_type": "stream",
          "name": "stdout",
          "text": [
            "Test Data Volume: 400000 \n",
            "\n",
            "\n"
          ]
        }
      ]
    }
  ]
}